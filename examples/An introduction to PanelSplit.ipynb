{
 "cells": [
  {
   "cell_type": "markdown",
   "metadata": {},
   "source": [
    "# An introduction to PanelSplit\n",
    "\n",
    "In this introduction, we see how PanelSplit's cross-validation abilities can be used for imputation, hyper-parameter tuning, and prediction.\n",
    "\n",
    "Let's import some panel data on countries using the World Bank API:\n",
    "First let's install PanelSplit and wbdata"
   ]
  },
  {
   "cell_type": "code",
   "execution_count": 36,
   "metadata": {},
   "outputs": [],
   "source": [
    "from panelsplit.cross_validation import PanelSplit\n",
    "import wbdata\n",
    "import pandas as pd\n",
    "import numpy as np"
   ]
  },
  {
   "cell_type": "markdown",
   "metadata": {},
   "source": [
    "Load the example dataframe:"
   ]
  },
  {
   "cell_type": "code",
   "execution_count": null,
   "metadata": {},
   "outputs": [
    {
     "name": "stdout",
     "output_type": "stream",
     "text": [
      "a sample of the data:\n"
     ]
    },
    {
     "data": {
      "text/html": [
       "<div>\n",
       "<style scoped>\n",
       "    .dataframe tbody tr th:only-of-type {\n",
       "        vertical-align: middle;\n",
       "    }\n",
       "\n",
       "    .dataframe tbody tr th {\n",
       "        vertical-align: top;\n",
       "    }\n",
       "\n",
       "    .dataframe thead th {\n",
       "        text-align: right;\n",
       "    }\n",
       "</style>\n",
       "<table border=\"1\" class=\"dataframe\">\n",
       "  <thead>\n",
       "    <tr style=\"text-align: right;\">\n",
       "      <th></th>\n",
       "      <th>country</th>\n",
       "      <th>date</th>\n",
       "      <th>GDP</th>\n",
       "      <th>Population</th>\n",
       "      <th>Inflation</th>\n",
       "      <th>Trade_Balance</th>\n",
       "    </tr>\n",
       "  </thead>\n",
       "  <tbody>\n",
       "    <tr>\n",
       "      <th>79</th>\n",
       "      <td>Spain</td>\n",
       "      <td>2010</td>\n",
       "      <td>1.427989e+12</td>\n",
       "      <td>46576897.0</td>\n",
       "      <td>1.799865</td>\n",
       "      <td>52.693370</td>\n",
       "    </tr>\n",
       "    <tr>\n",
       "      <th>265</th>\n",
       "      <td>United States</td>\n",
       "      <td>2019</td>\n",
       "      <td>2.153998e+13</td>\n",
       "      <td>330226227.0</td>\n",
       "      <td>1.812210</td>\n",
       "      <td>26.258481</td>\n",
       "    </tr>\n",
       "    <tr>\n",
       "      <th>142</th>\n",
       "      <td>France</td>\n",
       "      <td>2012</td>\n",
       "      <td>2.683007e+12</td>\n",
       "      <td>65657659.0</td>\n",
       "      <td>1.954195</td>\n",
       "      <td>61.658957</td>\n",
       "    </tr>\n",
       "    <tr>\n",
       "      <th>141</th>\n",
       "      <td>France</td>\n",
       "      <td>2013</td>\n",
       "      <td>2.816078e+12</td>\n",
       "      <td>65997932.0</td>\n",
       "      <td>0.863715</td>\n",
       "      <td>61.819234</td>\n",
       "    </tr>\n",
       "    <tr>\n",
       "      <th>70</th>\n",
       "      <td>Spain</td>\n",
       "      <td>2019</td>\n",
       "      <td>1.403496e+12</td>\n",
       "      <td>47118501.0</td>\n",
       "      <td>0.699519</td>\n",
       "      <td>66.366225</td>\n",
       "    </tr>\n",
       "  </tbody>\n",
       "</table>\n",
       "</div>"
      ],
      "text/plain": [
       "           country  date           GDP   Population  Inflation  Trade_Balance\n",
       "79           Spain  2010  1.427989e+12   46576897.0   1.799865      52.693370\n",
       "265  United States  2019  2.153998e+13  330226227.0   1.812210      26.258481\n",
       "142         France  2012  2.683007e+12   65657659.0   1.954195      61.658957\n",
       "141         France  2013  2.816078e+12   65997932.0   0.863715      61.819234\n",
       "70           Spain  2019  1.403496e+12   47118501.0   0.699519      66.366225"
      ]
     },
     "metadata": {},
     "output_type": "display_data"
    },
    {
     "name": "stdout",
     "output_type": "stream",
     "text": [
      "summary statistics:\n",
      "              date           GDP    Population  Inflation  Trade_Balance\n",
      "count    95.000000  9.500000e+01  9.500000e+01  95.000000      95.000000\n",
      "mean   2010.000000  5.045989e+12  1.126930e+08   1.810170      54.990272\n",
      "std       5.506283  5.538265e+12  9.941335e+07   1.028464      15.921591\n",
      "min    2001.000000  6.277987e+11  4.085041e+07  -0.500366      22.286384\n",
      "25%    2005.000000  1.900739e+12  6.062401e+07   1.383449      52.398997\n",
      "50%    2010.000000  2.722794e+12  6.596600e+07   1.745869      58.152561\n",
      "75%    2015.000000  3.808436e+12  8.250238e+07   2.450895      63.573721\n",
      "max    2019.000000  2.153998e+13  3.302262e+08   4.075343      79.300488\n"
     ]
    }
   ],
   "source": [
    "# Define indicators and countries of interest\n",
    "indicators = {\n",
    "    \"NY.GDP.MKTP.CD\": \"GDP\",  # Gross Domestic Product (current US$)\n",
    "    \"SP.POP.TOTL\": \"Population\",  # Total population\n",
    "    \"FP.CPI.TOTL.ZG\": \"Inflation\",  # Inflation, consumer prices (annual %)\n",
    "    \"NE.TRD.GNFS.ZS\": \"Trade_Balance\",\n",
    "}  # Trade balance (% of GDP)\n",
    "\n",
    "countries = [\n",
    "    \"USA\",\n",
    "    \"GBR\",\n",
    "    \"FRA\",\n",
    "    \"DEU\",\n",
    "    \"ESP\",\n",
    "]  # Example countries: USA, UK, France, Germany\n",
    "\n",
    "features, target = (\n",
    "    [\"Population\", \"Inflation\", \"Trade_Balance\"],\n",
    "    \"GDP\",\n",
    ")  # Define feature columns and target\n",
    "\n",
    "# Fetch data from the World Bank API\n",
    "df = wbdata.get_dataframe(indicators, country=countries).reset_index()\n",
    "df[\"date\"] = df.date.astype(int)\n",
    "df = df.query(\"date > 2000 & date < 2020\")\n",
    "\n",
    "print(\"a sample of the data:\")\n",
    "display(df.sample(5))\n",
    "print(\"summary statistics:\")\n",
    "print(df.describe())"
   ]
  },
  {
   "cell_type": "markdown",
   "metadata": {},
   "source": [
    "Say we don't have all the data available- ~10% of the features are missing at random."
   ]
  },
  {
   "cell_type": "code",
   "execution_count": 38,
   "metadata": {},
   "outputs": [
    {
     "name": "stdout",
     "output_type": "stream",
     "text": [
      "proportion of features that are missing:\n"
     ]
    },
    {
     "data": {
      "application/vnd.microsoft.datawrangler.viewer.v0+json": {
       "columns": [
        {
         "name": "index",
         "rawType": "object",
         "type": "string"
        },
        {
         "name": "0",
         "rawType": "float64",
         "type": "float"
        }
       ],
       "ref": "4651fc3b-33e2-4a50-be14-f65e57886e96",
       "rows": [
        [
         "Population",
         "0.1053"
        ],
        [
         "Inflation",
         "0.1053"
        ],
        [
         "Trade_Balance",
         "0.1053"
        ]
       ],
       "shape": {
        "columns": 1,
        "rows": 3
       }
      },
      "text/plain": [
       "Population       0.1053\n",
       "Inflation        0.1053\n",
       "Trade_Balance    0.1053\n",
       "dtype: float64"
      ]
     },
     "execution_count": 38,
     "metadata": {},
     "output_type": "execute_result"
    }
   ],
   "source": [
    "for i, col in enumerate(df[features].columns):\n",
    "    df.loc[df.sample(frac=0.1, random_state=i).index, col] = np.nan\n",
    "\n",
    "print(\"proportion of features that are missing:\")\n",
    "round(df[features].isna().mean(), 4)"
   ]
  },
  {
   "cell_type": "markdown",
   "metadata": {},
   "source": [
    "We can use PanelSplit to apply imputation in a time-series fashion to fill in the missing data.\n",
    "\n",
    "#### Initializing PanelSplit\n",
    "- To initialize PanelSplit, we pass the time series to the periods argument.\n",
    "- n_splits, gap, and test_size are all arguments used by [TimeSeriesSplit](https://scikit-learn.org/stable/modules/generated/sklearn.model_selection.TimeSeriesSplit.html) to split up the time series.\n",
    "- When we specify `plot=True`, a graph is displayed. This is a helpful visualization to understand what this particular instance of PanelSplit is doing. By reading this graph, we see that there are 19 folds or splits, that range from 2001 up to 2020. Train sets are marked in blue and test sets are marked in red.\n",
    "\n",
    "#### `cross_val_fit_predict`\n",
    "- The cross_val_fit_predict function takes an estimator. This could include a classifier, regressor, or even a tranformer in our case. The `method` argument allows us to specify any method that's available to our estimator. Here we use `\"transform\"`.\n",
    "- It iteratively fits on the train and transforms the test for each fold. \n",
    "- By setting `include_first_train_in_test=True` in PanelSplit, we also include transform the first split's training data.\n",
    "- We set `y = None` because our imputer does not require y as an input.\n"
   ]
  },
  {
   "cell_type": "code",
   "execution_count": 39,
   "metadata": {},
   "outputs": [
    {
     "data": {
      "image/png": "[encoded data removed]",
      "text/plain": [
       "<Figure size 640x480 with 1 Axes>"
      ]
     },
     "metadata": {},
     "output_type": "display_data"
    }
   ],
   "source": [
    "from sklearn.impute import KNNImputer\n",
    "from panelsplit.plot import plot_splits\n",
    "from panelsplit.application import cross_val_fit_predict\n",
    "\n",
    "n_splits = df.date.max() - df.date.min()\n",
    "\n",
    "# converting the date column to datetime allows for a nice looking plot.\n",
    "# include_first_train_in_test determines whether to include the first split's training set in its test set.\n",
    "panel_split = PanelSplit(\n",
    "    periods=pd.to_datetime(df.date, format=\"%Y\"),\n",
    "    n_splits=n_splits,\n",
    "    gap=0,\n",
    "    test_size=1,\n",
    "    include_first_train_in_test=True,\n",
    ")\n",
    "\n",
    "plot_splits(panel_split, show=True)\n",
    "\n",
    "df[features], fitted_imputers = cross_val_fit_predict(\n",
    "    estimator=KNNImputer(), X=df[features], y=None, method=\"transform\", cv=panel_split\n",
    ")"
   ]
  },
  {
   "cell_type": "markdown",
   "metadata": {},
   "source": [
    "Now that all observations have all features, we can determine the best set of hyper-parameters to use.\n",
    "\n",
    "#### Hyper-parameter search\n",
    "\n",
    "Since PanelSplit is compatible with sklearn, we can use any sklearn hyper-parameter optimizer has takes cv as an argument.\n",
    "\n",
    "Let's say that our validation period is 2010-2015 and our test period is 2016-2020.\n"
   ]
  },
  {
   "cell_type": "code",
   "execution_count": 46,
   "metadata": {},
   "outputs": [
    {
     "data": {
      "image/png": "[encoded data removed]",
      "text/plain": [
       "<Figure size 640x480 with 1 Axes>"
      ]
     },
     "metadata": {},
     "output_type": "display_data"
    },
    {
     "name": "stdout",
     "output_type": "stream",
     "text": [
      "Fitting 5 folds for each of 2 candidates, totalling 10 fits\n",
      "GridSearch results:\n"
     ]
    },
    {
     "data": {
      "application/vnd.microsoft.datawrangler.viewer.v0+json": {
       "columns": [
        {
         "name": "index",
         "rawType": "int64",
         "type": "integer"
        },
        {
         "name": "mean_fit_time",
         "rawType": "float64",
         "type": "float"
        },
        {
         "name": "std_fit_time",
         "rawType": "float64",
         "type": "float"
        },
        {
         "name": "mean_score_time",
         "rawType": "float64",
         "type": "float"
        },
        {
         "name": "std_score_time",
         "rawType": "float64",
         "type": "float"
        },
        {
         "name": "param_max_depth",
         "rawType": "int64",
         "type": "integer"
        },
        {
         "name": "param_n_estimators",
         "rawType": "int64",
         "type": "integer"
        },
        {
         "name": "params",
         "rawType": "object",
         "type": "unknown"
        },
        {
         "name": "split0_test_score",
         "rawType": "float64",
         "type": "float"
        },
        {
         "name": "split1_test_score",
         "rawType": "float64",
         "type": "float"
        },
        {
         "name": "split2_test_score",
         "rawType": "float64",
         "type": "float"
        },
        {
         "name": "split3_test_score",
         "rawType": "float64",
         "type": "float"
        },
        {
         "name": "split4_test_score",
         "rawType": "float64",
         "type": "float"
        },
        {
         "name": "mean_test_score",
         "rawType": "float64",
         "type": "float"
        },
        {
         "name": "std_test_score",
         "rawType": "float64",
         "type": "float"
        },
        {
         "name": "rank_test_score",
         "rawType": "int32",
         "type": "integer"
        }
       ],
       "ref": "c68974a7-3e4a-4c8f-a9b8-085f45a20f43",
       "rows": [
        [
         "0",
         "0.08332595825195313",
         "0.002895461818368868",
         "0.022247743606567384",
         "0.0006473384571764265",
         "3",
         "10",
         "{'max_depth': 3, 'n_estimators': 10}",
         "0.9948078910707461",
         "0.9905428615389129",
         "0.7289041080602193",
         "0.9882577453771713",
         "0.9853648771097722",
         "0.9375754966313643",
         "0.10438137032168723",
         "1"
        ],
        [
         "1",
         "0.07882928848266602",
         "0.004923928172995346",
         "0.02202444076538086",
         "0.00047468853858155893",
         "5",
         "10",
         "{'max_depth': 5, 'n_estimators': 10}",
         "0.9952367387861633",
         "0.9923961716684712",
         "0.7152338787888459",
         "0.9875288032751498",
         "0.985756985029608",
         "0.9352305155096478",
         "0.11005018334359923",
         "2"
        ]
       ],
       "shape": {
        "columns": 15,
        "rows": 2
       }
      },
      "text/html": [
       "<div>\n",
       "<style scoped>\n",
       "    .dataframe tbody tr th:only-of-type {\n",
       "        vertical-align: middle;\n",
       "    }\n",
       "\n",
       "    .dataframe tbody tr th {\n",
       "        vertical-align: top;\n",
       "    }\n",
       "\n",
       "    .dataframe thead th {\n",
       "        text-align: right;\n",
       "    }\n",
       "</style>\n",
       "<table border=\"1\" class=\"dataframe\">\n",
       "  <thead>\n",
       "    <tr style=\"text-align: right;\">\n",
       "      <th></th>\n",
       "      <th>mean_fit_time</th>\n",
       "      <th>std_fit_time</th>\n",
       "      <th>mean_score_time</th>\n",
       "      <th>std_score_time</th>\n",
       "      <th>param_max_depth</th>\n",
       "      <th>param_n_estimators</th>\n",
       "      <th>params</th>\n",
       "      <th>split0_test_score</th>\n",
       "      <th>split1_test_score</th>\n",
       "      <th>split2_test_score</th>\n",
       "      <th>split3_test_score</th>\n",
       "      <th>split4_test_score</th>\n",
       "      <th>mean_test_score</th>\n",
       "      <th>std_test_score</th>\n",
       "      <th>rank_test_score</th>\n",
       "    </tr>\n",
       "  </thead>\n",
       "  <tbody>\n",
       "    <tr>\n",
       "      <th>0</th>\n",
       "      <td>0.083326</td>\n",
       "      <td>0.002895</td>\n",
       "      <td>0.022248</td>\n",
       "      <td>0.000647</td>\n",
       "      <td>3</td>\n",
       "      <td>10</td>\n",
       "      <td>{'max_depth': 3, 'n_estimators': 10}</td>\n",
       "      <td>0.994808</td>\n",
       "      <td>0.990543</td>\n",
       "      <td>0.728904</td>\n",
       "      <td>0.988258</td>\n",
       "      <td>0.985365</td>\n",
       "      <td>0.937575</td>\n",
       "      <td>0.104381</td>\n",
       "      <td>1</td>\n",
       "    </tr>\n",
       "    <tr>\n",
       "      <th>1</th>\n",
       "      <td>0.078829</td>\n",
       "      <td>0.004924</td>\n",
       "      <td>0.022024</td>\n",
       "      <td>0.000475</td>\n",
       "      <td>5</td>\n",
       "      <td>10</td>\n",
       "      <td>{'max_depth': 5, 'n_estimators': 10}</td>\n",
       "      <td>0.995237</td>\n",
       "      <td>0.992396</td>\n",
       "      <td>0.715234</td>\n",
       "      <td>0.987529</td>\n",
       "      <td>0.985757</td>\n",
       "      <td>0.935231</td>\n",
       "      <td>0.110050</td>\n",
       "      <td>2</td>\n",
       "    </tr>\n",
       "  </tbody>\n",
       "</table>\n",
       "</div>"
      ],
      "text/plain": [
       "   mean_fit_time  std_fit_time  mean_score_time  std_score_time  \\\n",
       "0       0.083326      0.002895         0.022248        0.000647   \n",
       "1       0.078829      0.004924         0.022024        0.000475   \n",
       "\n",
       "   param_max_depth  param_n_estimators                                params  \\\n",
       "0                3                  10  {'max_depth': 3, 'n_estimators': 10}   \n",
       "1                5                  10  {'max_depth': 5, 'n_estimators': 10}   \n",
       "\n",
       "   split0_test_score  split1_test_score  split2_test_score  split3_test_score  \\\n",
       "0           0.994808           0.990543           0.728904           0.988258   \n",
       "1           0.995237           0.992396           0.715234           0.987529   \n",
       "\n",
       "   split4_test_score  mean_test_score  std_test_score  rank_test_score  \n",
       "0           0.985365         0.937575        0.104381                1  \n",
       "1           0.985757         0.935231        0.110050                2  "
      ]
     },
     "metadata": {},
     "output_type": "display_data"
    }
   ],
   "source": [
    "from sklearn.model_selection import GridSearchCV\n",
    "from sklearn.ensemble import RandomForestRegressor\n",
    "\n",
    "validation_df = df.query(\"date < 2015\")\n",
    "\n",
    "param_grid = {\"max_depth\": [3, 5], \"n_estimators\": [10]}\n",
    "panel_split = PanelSplit(validation_df.date, n_splits=5, gap=0, test_size=1)\n",
    "\n",
    "plot_splits(panel_split)\n",
    "\n",
    "grid_search = GridSearchCV(\n",
    "    RandomForestRegressor(n_jobs=-1, random_state=42),\n",
    "    param_grid=param_grid,\n",
    "    cv=panel_split,\n",
    "    n_jobs=-1,\n",
    "    verbose=1,\n",
    ")\n",
    "\n",
    "grid_search.fit(validation_df[features], validation_df[target])\n",
    "\n",
    "print(\"GridSearch results:\")\n",
    "display(pd.DataFrame(grid_search.cv_results_))"
   ]
  },
  {
   "cell_type": "markdown",
   "metadata": {},
   "source": [
    "Now that we've determined what hyper-parameters to use, let's generate predictions in the test period.\n",
    "\n",
    "#### `cross_val_fit_predict`\n",
    "- PanelSplit's cross_val_fit_predict iteratively fits on the train and predicts the test for each fold\n",
    "- Here are the arguments I use:\n",
    "    - estimator: estimator object.\n",
    "    - X: Features.\n",
    "    - y: Target variable.\n",
    "    - labels: pandas DataFrame containing labels for the target variable predicted by the model. The predicted target will be a new column added to this DataFrame.\n",
    "    - prediction_method: The prediction method to use. It can be 'predict', 'predict_proba', or 'predict_log_proba'. Default is 'predict'.\n",
    "    - y_pred_col: Column name for the predicted values. Default is None, in which case the name will be the name of y.name + 'pred'. If y does not have a name attribute, the name will be 'y_pred'.\n",
    "    - n_jobs: The number of jobs to run in parallel"
   ]
  },
  {
   "cell_type": "code",
   "execution_count": 41,
   "metadata": {},
   "outputs": [],
   "source": [
    "best_params = grid_search.best_params_\n",
    "\n",
    "panel_split = PanelSplit(df.date, n_splits=5, gap=0, test_size=1)\n",
    "result_df = panel_split.gen_test_labels(df[[\"country\", \"date\", \"GDP\"]])\n",
    "result_df[\"GDP_pred\"], models = cross_val_fit_predict(\n",
    "    RandomForestRegressor(**best_params),\n",
    "    X=df[features],\n",
    "    y=df[target],\n",
    "    method=\"predict\",\n",
    "    cv=panel_split,\n",
    ")"
   ]
  },
  {
   "cell_type": "markdown",
   "metadata": {},
   "source": [
    "The output of cross_val_fit_predict is a dataframe of predictions and fitted models. This is what the DataFrame looks like:"
   ]
  },
  {
   "cell_type": "markdown",
   "metadata": {},
   "source": [
    "Let's assess performance:"
   ]
  },
  {
   "cell_type": "code",
   "execution_count": 42,
   "metadata": {},
   "outputs": [
    {
     "name": "stdout",
     "output_type": "stream",
     "text": [
      "MAPE: 0.13\n"
     ]
    }
   ],
   "source": [
    "from sklearn.metrics import mean_absolute_percentage_error\n",
    "\n",
    "print(\n",
    "    \"MAPE:\", round(mean_absolute_percentage_error(result_df.GDP, result_df.GDP_pred), 2)\n",
    ")"
   ]
  },
  {
   "cell_type": "markdown",
   "metadata": {},
   "source": [
    "## Multiple Snapshots/Updated Values\n",
    "\n",
    "There are also instances where you might want to keep observations seperate between folds, for example when scaling features. \n",
    "\n",
    "In case you need to manually implement something where observations must be handled differently across folds, PanelSplit's `gen_snapshots` converts a single df to multiple snapshots of that dataframe."
   ]
  },
  {
   "cell_type": "code",
   "execution_count": 43,
   "metadata": {},
   "outputs": [
    {
     "name": "stdout",
     "output_type": "stream",
     "text": [
      "2 new columns are created: split and snapshot_period:\n"
     ]
    },
    {
     "data": {
      "application/vnd.microsoft.datawrangler.viewer.v0+json": {
       "columns": [
        {
         "name": "index",
         "rawType": "int64",
         "type": "integer"
        },
        {
         "name": "country",
         "rawType": "object",
         "type": "string"
        },
        {
         "name": "date",
         "rawType": "int64",
         "type": "integer"
        },
        {
         "name": "GDP",
         "rawType": "float64",
         "type": "float"
        },
        {
         "name": "Population",
         "rawType": "float64",
         "type": "float"
        },
        {
         "name": "Inflation",
         "rawType": "float64",
         "type": "float"
        },
        {
         "name": "Trade_Balance",
         "rawType": "float64",
         "type": "float"
        },
        {
         "name": "split",
         "rawType": "int64",
         "type": "integer"
        },
        {
         "name": "snapshot_period",
         "rawType": "int64",
         "type": "integer"
        }
       ],
       "ref": "8c9efac3-091f-4af7-8860-6b41f6d93fce",
       "rows": [
        [
         "14",
         "Germany",
         "2010",
         "3468154343000.01",
         "81776930.0",
         "1.1038103778926",
         "73.8626407651201",
         "0",
         "2010"
        ],
        [
         "15",
         "Germany",
         "2009",
         "3479800820863.28",
         "81902307.0",
         "0.312739007368447",
         "66.1152685310257",
         "0",
         "2010"
        ],
        [
         "16",
         "Germany",
         "2008",
         "3808786022312.5",
         "82110097.0",
         "2.62837981637219",
         "76.1014102128448",
         "0",
         "2010"
        ],
        [
         "17",
         "Germany",
         "2007",
         "3484056680854.91",
         "82266372.0",
         "2.29834400700951",
         "74.8838416816798",
         "0",
         "2010"
        ],
        [
         "18",
         "Germany",
         "2006",
         "3046308753670.58",
         "64119011.2",
         "1.57742642840563",
         "52.00500137190172",
         "0",
         "2010"
        ],
        [
         "19",
         "Germany",
         "2005",
         "2893393187361.87",
         "82469422.0",
         "1.54691114751328",
         "66.9531024934321",
         "0",
         "2010"
        ],
        [
         "20",
         "Germany",
         "2004",
         "2852317768061.78",
         "82516260.0",
         "1.66573696655992",
         "62.9064909465164",
         "0",
         "2010"
        ],
        [
         "21",
         "Germany",
         "2003",
         "2534715518349.01",
         "155202891.6",
         "1.03422218628562",
         "42.37180060340556",
         "0",
         "2010"
        ],
        [
         "22",
         "Germany",
         "2002",
         "2102350798305.89",
         "82488495.0",
         "1.42080615551526",
         "58.3325687248129",
         "0",
         "2010"
        ],
        [
         "23",
         "Germany",
         "2001",
         "1966381496641.73",
         "82349925.0",
         "1.98385731334471",
         "59.5592863682118",
         "0",
         "2010"
        ],
        [
         "79",
         "Spain",
         "2010",
         "1427989078916.67",
         "46576897.0",
         "1.79986457728769",
         "54.376833968113445",
         "0",
         "2010"
        ],
        [
         "80",
         "Spain",
         "2009",
         "1496587590847.66",
         "46362946.0",
         "-0.28781308353524",
         "46.8366899971109",
         "0",
         "2010"
        ],
        [
         "81",
         "Spain",
         "2008",
         "1636115447612.5",
         "50555689.2",
         "4.07534335957339",
         "55.8281315172523",
         "0",
         "2010"
        ],
        [
         "82",
         "Spain",
         "2007",
         "1476746276854.51",
         "45226803.0",
         "2.919461573239384",
         "57.6269487657546",
         "0",
         "2010"
        ],
        [
         "83",
         "Spain",
         "2006",
         "1261846683275.29",
         "44397319.0",
         "3.51557576832128",
         "56.0839263823216",
         "0",
         "2010"
        ],
        [
         "84",
         "Spain",
         "2005",
         "1154667551775.88",
         "50212165.6",
         "3.36881409750383",
         "54.6991667043772",
         "0",
         "2010"
        ],
        [
         "85",
         "Spain",
         "2004",
         "1069829382514.67",
         "42921895.0",
         "3.03924881090925",
         "54.4795182656074",
         "0",
         "2010"
        ],
        [
         "86",
         "Spain",
         "2003",
         "907963217057.645",
         "42187645.0",
         "3.03888839396655",
         "53.4357897202258",
         "0",
         "2010"
        ],
        [
         "87",
         "Spain",
         "2002",
         "708938227243.923",
         "41431558.0",
         "3.06565685902219",
         "50.051041062420786",
         "0",
         "2010"
        ],
        [
         "88",
         "Spain",
         "2001",
         "627798682378.741",
         "40850412.0",
         "3.58983413338112",
         "58.0138895625701",
         "0",
         "2010"
        ],
        [
         "144",
         "France",
         "2010",
         "2646230027988.34",
         "65026211.0",
         "1.53112270420926",
         "56.587555247796",
         "0",
         "2010"
        ],
        [
         "145",
         "France",
         "2009",
         "2700075882518.98",
         "64706436.0",
         "0.0876204781574552",
         "52.1991123027613",
         "0",
         "2010"
        ],
        [
         "146",
         "France",
         "2008",
         "2926802941585.86",
         "64375116.0",
         "1.9825173624860981",
         "59.1797928411748",
         "0",
         "2010"
        ],
        [
         "147",
         "France",
         "2007",
         "2655816911866.56",
         "64016890.0",
         "1.4879980595386",
         "58.1525611309659",
         "0",
         "2010"
        ],
        [
         "148",
         "France",
         "2006",
         "2317861544690.82",
         "63622342.0",
         "1.67512449608723",
         "57.8692775292673",
         "0",
         "2010"
        ],
        [
         "149",
         "France",
         "2005",
         "2192146403028.17",
         "63180854.0",
         "1.74586936380482",
         "55.8228361241299",
         "0",
         "2010"
        ],
        [
         "150",
         "France",
         "2004",
         "2109792297237.03",
         "62707588.0",
         "2.14208964640241",
         "53.7497648292028",
         "0",
         "2010"
        ],
        [
         "151",
         "France",
         "2003",
         "1835095983049.09",
         "62249855.0",
         "2.09847219146923",
         "55.15725835827703",
         "0",
         "2010"
        ],
        [
         "152",
         "France",
         "2002",
         "1492427756382.43",
         "61812142.0",
         "1.9234122872706",
         "55.1325248503102",
         "0",
         "2010"
        ],
        [
         "153",
         "France",
         "2001",
         "1370376677298.86",
         "116822241.25",
         "1.63478079549601",
         "56.8932328560722",
         "0",
         "2010"
        ],
        [
         "209",
         "United Kingdom",
         "2010",
         "2485482596184.71",
         "62766365.0",
         "2.49265472467065",
         "59.2727749722888",
         "0",
         "2010"
        ],
        [
         "210",
         "United Kingdom",
         "2009",
         "2412840006231.5",
         "62276270.0",
         "1.96173173560109",
         "55.004384033595",
         "0",
         "2010"
        ],
        [
         "211",
         "United Kingdom",
         "2008",
         "2929411764705.88",
         "61806995.0",
         "3.52140856342539",
         "56.6986069277108",
         "0",
         "2010"
        ],
        [
         "212",
         "United Kingdom",
         "2007",
         "3090510204081.63",
         "61322463.0",
         "2.38656150773327",
         "52.9643534370859",
         "0",
         "2010"
        ],
        [
         "213",
         "United Kingdom",
         "2006",
         "2708441582336.71",
         "60846820.0",
         "2.4556616643929",
         "56.9144274808123",
         "0",
         "2010"
        ],
        [
         "214",
         "United Kingdom",
         "2005",
         "2543180000000.0",
         "60401206.0",
         "2.0891364902507",
         "52.6807168405482",
         "0",
         "2010"
        ],
        [
         "215",
         "United Kingdom",
         "2004",
         "2421525082387.4",
         "59987905.0",
         "1.39039756680422",
         "50.4517112404991",
         "0",
         "2010"
        ],
        [
         "216",
         "United Kingdom",
         "2003",
         "2054422857142.86",
         "59647577.0",
         "1.37650038542013",
         "50.2395230519083",
         "0",
         "2010"
        ],
        [
         "217",
         "United Kingdom",
         "2002",
         "1785729916067.15",
         "59370479.0",
         "1.52040245947455",
         "51.3796342070387",
         "0",
         "2010"
        ],
        [
         "218",
         "United Kingdom",
         "2001",
         "1649827263567.01",
         "59119673.0",
         "1.53234960272418",
         "52.8216135097523",
         "0",
         "2010"
        ],
        [
         "274",
         "United States",
         "2010",
         "15048971000000.0",
         "309378227.0",
         "1.6400434423899",
         "28.2198829408336",
         "0",
         "2010"
        ],
        [
         "275",
         "United States",
         "2009",
         "14478067000000.0",
         "306771529.0",
         "-0.355546266299747",
         "24.759527635837",
         "0",
         "2010"
        ],
        [
         "276",
         "United States",
         "2008",
         "14769862000000.0",
         "304093966.0",
         "2.63537413203135",
         "29.8677875257061",
         "0",
         "2010"
        ],
        [
         "277",
         "United States",
         "2007",
         "14474228000000.0",
         "301231207.0",
         "2.63537413203135",
         "28.0120155631098",
         "0",
         "2010"
        ],
        [
         "278",
         "United States",
         "2006",
         "13815583000000.0",
         "298379912.0",
         "3.22594410070404",
         "26.9752858058903",
         "0",
         "2010"
        ],
        [
         "279",
         "United States",
         "2005",
         "13039197000000.0",
         "295516599.0",
         "2.1988630414617925",
         "25.6385573436769",
         "0",
         "2010"
        ],
        [
         "280",
         "United States",
         "2004",
         "12217196000000.0",
         "292805298.0",
         "2.67723669309172",
         "24.4480566571904",
         "0",
         "2010"
        ],
        [
         "281",
         "United States",
         "2003",
         "11456450000000.0",
         "290107933.0",
         "2.27009497336115",
         "22.6272972866813",
         "0",
         "2010"
        ],
        [
         "282",
         "United States",
         "2002",
         "10929108000000.0",
         "287625193.0",
         "1.58603162650601",
         "22.2863842136065",
         "0",
         "2010"
        ],
        [
         "283",
         "United States",
         "2001",
         "10581929000000.0",
         "284968955.0",
         "2.82617111885407",
         "22.9671830154975",
         "0",
         "2010"
        ]
       ],
       "shape": {
        "columns": 8,
        "rows": 725
       }
      },
      "text/html": [
       "<div>\n",
       "<style scoped>\n",
       "    .dataframe tbody tr th:only-of-type {\n",
       "        vertical-align: middle;\n",
       "    }\n",
       "\n",
       "    .dataframe tbody tr th {\n",
       "        vertical-align: top;\n",
       "    }\n",
       "\n",
       "    .dataframe thead th {\n",
       "        text-align: right;\n",
       "    }\n",
       "</style>\n",
       "<table border=\"1\" class=\"dataframe\">\n",
       "  <thead>\n",
       "    <tr style=\"text-align: right;\">\n",
       "      <th></th>\n",
       "      <th>country</th>\n",
       "      <th>date</th>\n",
       "      <th>GDP</th>\n",
       "      <th>Population</th>\n",
       "      <th>Inflation</th>\n",
       "      <th>Trade_Balance</th>\n",
       "      <th>split</th>\n",
       "      <th>snapshot_period</th>\n",
       "    </tr>\n",
       "  </thead>\n",
       "  <tbody>\n",
       "    <tr>\n",
       "      <th>14</th>\n",
       "      <td>Germany</td>\n",
       "      <td>2010</td>\n",
       "      <td>3.468154e+12</td>\n",
       "      <td>81776930.0</td>\n",
       "      <td>1.103810</td>\n",
       "      <td>73.862641</td>\n",
       "      <td>0</td>\n",
       "      <td>2010</td>\n",
       "    </tr>\n",
       "    <tr>\n",
       "      <th>15</th>\n",
       "      <td>Germany</td>\n",
       "      <td>2009</td>\n",
       "      <td>3.479801e+12</td>\n",
       "      <td>81902307.0</td>\n",
       "      <td>0.312739</td>\n",
       "      <td>66.115269</td>\n",
       "      <td>0</td>\n",
       "      <td>2010</td>\n",
       "    </tr>\n",
       "    <tr>\n",
       "      <th>16</th>\n",
       "      <td>Germany</td>\n",
       "      <td>2008</td>\n",
       "      <td>3.808786e+12</td>\n",
       "      <td>82110097.0</td>\n",
       "      <td>2.628380</td>\n",
       "      <td>76.101410</td>\n",
       "      <td>0</td>\n",
       "      <td>2010</td>\n",
       "    </tr>\n",
       "    <tr>\n",
       "      <th>17</th>\n",
       "      <td>Germany</td>\n",
       "      <td>2007</td>\n",
       "      <td>3.484057e+12</td>\n",
       "      <td>82266372.0</td>\n",
       "      <td>2.298344</td>\n",
       "      <td>74.883842</td>\n",
       "      <td>0</td>\n",
       "      <td>2010</td>\n",
       "    </tr>\n",
       "    <tr>\n",
       "      <th>18</th>\n",
       "      <td>Germany</td>\n",
       "      <td>2006</td>\n",
       "      <td>3.046309e+12</td>\n",
       "      <td>64119011.2</td>\n",
       "      <td>1.577426</td>\n",
       "      <td>52.005001</td>\n",
       "      <td>0</td>\n",
       "      <td>2010</td>\n",
       "    </tr>\n",
       "    <tr>\n",
       "      <th>...</th>\n",
       "      <td>...</td>\n",
       "      <td>...</td>\n",
       "      <td>...</td>\n",
       "      <td>...</td>\n",
       "      <td>...</td>\n",
       "      <td>...</td>\n",
       "      <td>...</td>\n",
       "      <td>...</td>\n",
       "    </tr>\n",
       "    <tr>\n",
       "      <th>279</th>\n",
       "      <td>United States</td>\n",
       "      <td>2005</td>\n",
       "      <td>1.303920e+13</td>\n",
       "      <td>295516599.0</td>\n",
       "      <td>2.198863</td>\n",
       "      <td>25.638557</td>\n",
       "      <td>9</td>\n",
       "      <td>2019</td>\n",
       "    </tr>\n",
       "    <tr>\n",
       "      <th>280</th>\n",
       "      <td>United States</td>\n",
       "      <td>2004</td>\n",
       "      <td>1.221720e+13</td>\n",
       "      <td>292805298.0</td>\n",
       "      <td>2.677237</td>\n",
       "      <td>24.448057</td>\n",
       "      <td>9</td>\n",
       "      <td>2019</td>\n",
       "    </tr>\n",
       "    <tr>\n",
       "      <th>281</th>\n",
       "      <td>United States</td>\n",
       "      <td>2003</td>\n",
       "      <td>1.145645e+13</td>\n",
       "      <td>290107933.0</td>\n",
       "      <td>2.270095</td>\n",
       "      <td>22.627297</td>\n",
       "      <td>9</td>\n",
       "      <td>2019</td>\n",
       "    </tr>\n",
       "    <tr>\n",
       "      <th>282</th>\n",
       "      <td>United States</td>\n",
       "      <td>2002</td>\n",
       "      <td>1.092911e+13</td>\n",
       "      <td>287625193.0</td>\n",
       "      <td>1.586032</td>\n",
       "      <td>22.286384</td>\n",
       "      <td>9</td>\n",
       "      <td>2019</td>\n",
       "    </tr>\n",
       "    <tr>\n",
       "      <th>283</th>\n",
       "      <td>United States</td>\n",
       "      <td>2001</td>\n",
       "      <td>1.058193e+13</td>\n",
       "      <td>284968955.0</td>\n",
       "      <td>2.826171</td>\n",
       "      <td>22.967183</td>\n",
       "      <td>9</td>\n",
       "      <td>2019</td>\n",
       "    </tr>\n",
       "  </tbody>\n",
       "</table>\n",
       "<p>725 rows × 8 columns</p>\n",
       "</div>"
      ],
      "text/plain": [
       "           country  date           GDP   Population  Inflation  Trade_Balance  \\\n",
       "14         Germany  2010  3.468154e+12   81776930.0   1.103810      73.862641   \n",
       "15         Germany  2009  3.479801e+12   81902307.0   0.312739      66.115269   \n",
       "16         Germany  2008  3.808786e+12   82110097.0   2.628380      76.101410   \n",
       "17         Germany  2007  3.484057e+12   82266372.0   2.298344      74.883842   \n",
       "18         Germany  2006  3.046309e+12   64119011.2   1.577426      52.005001   \n",
       "..             ...   ...           ...          ...        ...            ...   \n",
       "279  United States  2005  1.303920e+13  295516599.0   2.198863      25.638557   \n",
       "280  United States  2004  1.221720e+13  292805298.0   2.677237      24.448057   \n",
       "281  United States  2003  1.145645e+13  290107933.0   2.270095      22.627297   \n",
       "282  United States  2002  1.092911e+13  287625193.0   1.586032      22.286384   \n",
       "283  United States  2001  1.058193e+13  284968955.0   2.826171      22.967183   \n",
       "\n",
       "     split  snapshot_period  \n",
       "14       0             2010  \n",
       "15       0             2010  \n",
       "16       0             2010  \n",
       "17       0             2010  \n",
       "18       0             2010  \n",
       "..     ...              ...  \n",
       "279      9             2019  \n",
       "280      9             2019  \n",
       "281      9             2019  \n",
       "282      9             2019  \n",
       "283      9             2019  \n",
       "\n",
       "[725 rows x 8 columns]"
      ]
     },
     "metadata": {},
     "output_type": "display_data"
    },
    {
     "name": "stdout",
     "output_type": "stream",
     "text": [
      "before gen_snapshot:(95, 6) after gen_snapshot:(725, 8)\n"
     ]
    }
   ],
   "source": [
    "panel_split = PanelSplit(df.date, n_splits=(2020 - 2010), test_size=1)\n",
    "\n",
    "snapshot_df = panel_split.gen_snapshots(df, period_col=\"date\")\n",
    "print(\"2 new columns are created: split and snapshot_period:\")\n",
    "display(snapshot_df)\n",
    "print(f\"before gen_snapshot:{df.shape} after gen_snapshot:{snapshot_df.shape}\")"
   ]
  },
  {
   "cell_type": "markdown",
   "metadata": {},
   "source": [
    "Let's scale our data using `cross_val_fit_predict`. Here each snapshot is scaled separately. We also specify `include_train_in_test=True`, thereby also transforming the training set for each fold."
   ]
  },
  {
   "cell_type": "code",
   "execution_count": 44,
   "metadata": {},
   "outputs": [],
   "source": [
    "from sklearn.preprocessing import StandardScaler\n",
    "\n",
    "panel_split = PanelSplit(\n",
    "    periods=snapshot_df.date,\n",
    "    snapshots=snapshot_df.snapshot_period,\n",
    "    n_splits=(2020 - 2010),\n",
    "    include_train_in_test=True,\n",
    ")  # notice the usage of the snapshots argument. Also, include train in test means that the training data for each test set will be transformed as well.\n",
    "snapshot_df[features], scalers = cross_val_fit_predict(\n",
    "    StandardScaler(),\n",
    "    X=snapshot_df[features],\n",
    "    y=None,\n",
    "    cv=panel_split,\n",
    "    method=\"transform\",\n",
    ")  # transform_train transforms the training set for each fold"
   ]
  },
  {
   "cell_type": "markdown",
   "metadata": {},
   "source": [
    "We could then go on to hyper-parameter tune and cross_val_fit_predict our snapshot_df in almost the same way we did before. The only difference, like in the above cell, is that we specify the snapshots argument."
   ]
  }
 ],
 "metadata": {
  "kernelspec": {
   "display_name": ".venv",
   "language": "python",
   "name": "python3"
  },
  "language_info": {
   "codemirror_mode": {
    "name": "ipython",
    "version": 3
   },
   "file_extension": ".py",
   "mimetype": "text/x-python",
   "name": "python",
   "nbconvert_exporter": "python",
   "pygments_lexer": "ipython3",
   "version": "3.12.9"
  }
 },
 "nbformat": 4,
 "nbformat_minor": 2
}
