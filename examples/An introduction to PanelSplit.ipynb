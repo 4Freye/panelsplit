{
 "cells": [
  {
   "cell_type": "markdown",
   "metadata": {},
   "source": [
    "# An introduction to PanelSplit\n",
    "\n",
    "In this introduction, we see how PanelSplit's cross-validation abilities can be used for imputation, hyper-parameter tuning, and prediction.\n",
    "\n",
    "Let's import some panel data on countries using the World Bank API:\n",
    "First let's install PanelSplit and wbdata"
   ]
  },
  {
   "cell_type": "code",
   "execution_count": null,
   "metadata": {},
   "outputs": [],
   "source": [
    "!pip install panelsplit > /dev/null # installation of PanelSplit\n",
    "!pip install wbdata > /dev/null # installation of wbdata\n",
    "\n",
    "from panelsplit.cross_validation import PanelSplit\n",
    "import wbdata\n",
    "import pandas as pd; import numpy as np"
   ]
  },
  {
   "cell_type": "markdown",
   "metadata": {},
   "source": [
    "Load the example dataframe:"
   ]
  },
  {
   "cell_type": "code",
   "execution_count": 2,
   "metadata": {},
   "outputs": [
    {
     "name": "stdout",
     "output_type": "stream",
     "text": [
      "a sample of the data:\n"
     ]
    },
    {
     "data": {
      "text/html": [
       "<div>\n",
       "<style scoped>\n",
       "    .dataframe tbody tr th:only-of-type {\n",
       "        vertical-align: middle;\n",
       "    }\n",
       "\n",
       "    .dataframe tbody tr th {\n",
       "        vertical-align: top;\n",
       "    }\n",
       "\n",
       "    .dataframe thead th {\n",
       "        text-align: right;\n",
       "    }\n",
       "</style>\n",
       "<table border=\"1\" class=\"dataframe\">\n",
       "  <thead>\n",
       "    <tr style=\"text-align: right;\">\n",
       "      <th></th>\n",
       "      <th>country</th>\n",
       "      <th>date</th>\n",
       "      <th>GDP</th>\n",
       "      <th>Population</th>\n",
       "      <th>Inflation</th>\n",
       "      <th>Trade_Balance</th>\n",
       "    </tr>\n",
       "  </thead>\n",
       "  <tbody>\n",
       "    <tr>\n",
       "      <th>45</th>\n",
       "      <td>France</td>\n",
       "      <td>2005</td>\n",
       "      <td>2.192146e+12</td>\n",
       "      <td>63179351.0</td>\n",
       "      <td>1.745869</td>\n",
       "      <td>55.822836</td>\n",
       "    </tr>\n",
       "    <tr>\n",
       "      <th>445</th>\n",
       "      <td>United States</td>\n",
       "      <td>2001</td>\n",
       "      <td>1.058193e+13</td>\n",
       "      <td>284968955.0</td>\n",
       "      <td>2.826171</td>\n",
       "      <td>22.967183</td>\n",
       "    </tr>\n",
       "    <tr>\n",
       "      <th>158</th>\n",
       "      <td>Germany</td>\n",
       "      <td>2017</td>\n",
       "      <td>3.763092e+12</td>\n",
       "      <td>82657002.0</td>\n",
       "      <td>1.509495</td>\n",
       "      <td>77.566637</td>\n",
       "    </tr>\n",
       "    <tr>\n",
       "      <th>48</th>\n",
       "      <td>France</td>\n",
       "      <td>2008</td>\n",
       "      <td>2.926803e+12</td>\n",
       "      <td>64374984.0</td>\n",
       "      <td>2.812862</td>\n",
       "      <td>59.179793</td>\n",
       "    </tr>\n",
       "    <tr>\n",
       "      <th>259</th>\n",
       "      <td>Spain</td>\n",
       "      <td>2017</td>\n",
       "      <td>1.321754e+12</td>\n",
       "      <td>46593236.0</td>\n",
       "      <td>1.956076</td>\n",
       "      <td>66.167446</td>\n",
       "    </tr>\n",
       "  </tbody>\n",
       "</table>\n",
       "</div>"
      ],
      "text/plain": [
       "           country  date           GDP   Population  Inflation  Trade_Balance\n",
       "45          France  2005  2.192146e+12   63179351.0   1.745869      55.822836\n",
       "445  United States  2001  1.058193e+13  284968955.0   2.826171      22.967183\n",
       "158        Germany  2017  3.763092e+12   82657002.0   1.509495      77.566637\n",
       "48          France  2008  2.926803e+12   64374984.0   2.812862      59.179793\n",
       "259          Spain  2017  1.321754e+12   46593236.0   1.956076      66.167446"
      ]
     },
     "metadata": {},
     "output_type": "display_data"
    },
    {
     "name": "stdout",
     "output_type": "stream",
     "text": [
      "summary statistics:\n",
      "              date           GDP    Population  Inflation  Trade_Balance\n",
      "count    95.000000  9.500000e+01  9.500000e+01  95.000000      95.000000\n",
      "mean   2010.000000  5.045989e+12  1.125899e+08   1.810170      54.990272\n",
      "std       5.506283  5.538265e+12  9.920676e+07   1.028464      15.921591\n",
      "min    2001.000000  6.277987e+11  4.085041e+07  -0.500366      22.286384\n",
      "25%    2005.000000  1.900739e+12  6.062401e+07   1.383449      52.398997\n",
      "50%    2010.000000  2.722794e+12  6.599869e+07   1.745869      58.152561\n",
      "75%    2015.000000  3.808436e+12  8.250238e+07   2.450895      63.573721\n",
      "max    2019.000000  2.153998e+13  3.295340e+08   4.075343      79.300488\n"
     ]
    }
   ],
   "source": [
    "import pandas as pd; import numpy as np\n",
    "\n",
    "# Define indicators and countries of interest\n",
    "indicators = {\"NY.GDP.MKTP.CD\": \"GDP\",  # Gross Domestic Product (current US$)\n",
    "              \"SP.POP.TOTL\": \"Population\",  # Total population\n",
    "              \"FP.CPI.TOTL.ZG\": \"Inflation\",     # Inflation, consumer prices (annual %)\n",
    "              \"NE.TRD.GNFS.ZS\": \"Trade_Balance\"}    # Trade balance (% of GDP)\n",
    "\n",
    "countries = [\"USA\", \"GBR\", \"FRA\", \"DEU\", \"ESP\"]  # Example countries: USA, UK, France, Germany\n",
    "\n",
    "features, target  = ['Population','Inflation','Trade_Balance'], 'GDP' # Define feature columns and target\n",
    "\n",
    "# Fetch data from the World Bank API\n",
    "df = wbdata.get_dataframe(indicators, country=countries).reset_index()\n",
    "df['date'] = df.date.astype(int)\n",
    "df = df.query('date > 2000 & date < 2020')\n",
    "\n",
    "print('a sample of the data:')\n",
    "display(df.sample(5))\n",
    "print('summary statistics:')\n",
    "print(df.describe())"
   ]
  },
  {
   "cell_type": "markdown",
   "metadata": {},
   "source": [
    "Say we don't have all the data available- ~10% of the features are missing at random."
   ]
  },
  {
   "cell_type": "code",
   "execution_count": 3,
   "metadata": {},
   "outputs": [
    {
     "name": "stdout",
     "output_type": "stream",
     "text": [
      "proportion of features that are missing:\n"
     ]
    },
    {
     "data": {
      "text/plain": [
       "Population       0.1053\n",
       "Inflation        0.1053\n",
       "Trade_Balance    0.1053\n",
       "dtype: float64"
      ]
     },
     "execution_count": 3,
     "metadata": {},
     "output_type": "execute_result"
    }
   ],
   "source": [
    "for i, col in enumerate(df[features].columns):\n",
    "    df.loc[df.sample(frac=0.1, random_state=i).index, col] = np.nan\n",
    "\n",
    "print('proportion of features that are missing:')\n",
    "round(df[features].isna().mean(), 4)"
   ]
  },
  {
   "cell_type": "markdown",
   "metadata": {},
   "source": [
    "We can use PanelSplit to apply imputation in a time-series fashion to fill in the missing data.\n",
    "\n",
    "#### Initializing PanelSplit\n",
    "- To initialize PanelSplit, we pass the time series to the periods argument.\n",
    "- n_splits, gap, and test_size are all arguments used by [TimeSeriesSplit](https://scikit-learn.org/stable/modules/generated/sklearn.model_selection.TimeSeriesSplit.html) to split up the time series.\n",
    "- When we specify `plot=True`, a graph is displayed. This is a helpful visualization to understand what this particular instance of PanelSplit is doing. By reading this graph, we see that there are 19 folds or splits, that range from 2001 up to 2020. Train sets are marked in blue and test sets are marked in red.\n",
    "\n",
    "#### `cross_val_fit_predict`\n",
    "- The cross_val_fit_predict function takes an estimator. This could include a classifier, regressor, or even a tranformer in our case. The `method` argument allows us to specify any method that's available to our estimator. Here we use `\"transform\"`.\n",
    "- It iteratively fits on the train and transforms the test for each fold. \n",
    "- By setting `include_first_train_in_test=True` in PanelSplit, we also include transform the first split's training data.\n",
    "- We set `y = None` because our imputer does not require y as an input.\n"
   ]
  },
  {
   "cell_type": "code",
   "execution_count": 15,
   "metadata": {},
   "outputs": [
    {
     "data": {
      "image/png": "[encoded data removed]",
      "text/plain": [
       "<Figure size 640x480 with 1 Axes>"
      ]
     },
     "metadata": {},
     "output_type": "display_data"
    }
   ],
   "source": [
    "from sklearn.impute import KNNImputer\n",
    "from panelsplit.plot import plot_splits\n",
    "from panelsplit.application import cross_val_fit_predict\n",
    "\n",
    "n_splits = df.date.max()-df.date.min()\n",
    "\n",
    "# converting the date column to datetime allows for a nice looking plot.\n",
    "# include_first_train_in_test determines whether to include the first split's training set in its test set.\n",
    "panel_split = PanelSplit(periods=pd.to_datetime(df.date, format='%Y'), n_splits = n_splits, gap=0, test_size=1, include_first_train_in_test=True) \n",
    "\n",
    "plot_splits(panel_split, show=True)\n",
    "\n",
    "df[features], fitted_imputers = cross_val_fit_predict(estimator = KNNImputer(), X= df[features], y =None,  method = 'transform', cv = panel_split)"
   ]
  },
  {
   "cell_type": "markdown",
   "metadata": {},
   "source": [
    "Now that all observations have all features, we can determine the best set of hyper-parameters to use.\n",
    "\n",
    "#### Hyper-parameter search\n",
    "\n",
    "Since PanelSplit is compatible with sklearn, we can use any sklearn hyper-parameter optimizer has takes cv as an argument.\n",
    "\n",
    "Let's say that our validation period is 2010-2015 and our test period is 2016-2020.\n"
   ]
  },
  {
   "cell_type": "code",
   "execution_count": 16,
   "metadata": {},
   "outputs": [
    {
     "data": {
      "image/png": "[encoded data removed]",
      "text/plain": [
       "<Figure size 640x480 with 1 Axes>"
      ]
     },
     "metadata": {},
     "output_type": "display_data"
    },
    {
     "name": "stdout",
     "output_type": "stream",
     "text": [
      "Fitting 5 folds for each of 2 candidates, totalling 10 fits\n",
      "GridSearch results:\n"
     ]
    },
    {
     "data": {
      "text/html": [
       "<div>\n",
       "<style scoped>\n",
       "    .dataframe tbody tr th:only-of-type {\n",
       "        vertical-align: middle;\n",
       "    }\n",
       "\n",
       "    .dataframe tbody tr th {\n",
       "        vertical-align: top;\n",
       "    }\n",
       "\n",
       "    .dataframe thead th {\n",
       "        text-align: right;\n",
       "    }\n",
       "</style>\n",
       "<table border=\"1\" class=\"dataframe\">\n",
       "  <thead>\n",
       "    <tr style=\"text-align: right;\">\n",
       "      <th></th>\n",
       "      <th>mean_fit_time</th>\n",
       "      <th>std_fit_time</th>\n",
       "      <th>mean_score_time</th>\n",
       "      <th>std_score_time</th>\n",
       "      <th>param_max_depth</th>\n",
       "      <th>param_n_estimators</th>\n",
       "      <th>params</th>\n",
       "      <th>split0_test_score</th>\n",
       "      <th>split1_test_score</th>\n",
       "      <th>split2_test_score</th>\n",
       "      <th>split3_test_score</th>\n",
       "      <th>split4_test_score</th>\n",
       "      <th>mean_test_score</th>\n",
       "      <th>std_test_score</th>\n",
       "      <th>rank_test_score</th>\n",
       "    </tr>\n",
       "  </thead>\n",
       "  <tbody>\n",
       "    <tr>\n",
       "      <th>0</th>\n",
       "      <td>0.051493</td>\n",
       "      <td>0.003692</td>\n",
       "      <td>0.024476</td>\n",
       "      <td>0.003536</td>\n",
       "      <td>3</td>\n",
       "      <td>10</td>\n",
       "      <td>{'max_depth': 3, 'n_estimators': 10}</td>\n",
       "      <td>0.950969</td>\n",
       "      <td>0.982368</td>\n",
       "      <td>0.977855</td>\n",
       "      <td>0.968894</td>\n",
       "      <td>0.055657</td>\n",
       "      <td>0.787149</td>\n",
       "      <td>0.365904</td>\n",
       "      <td>2</td>\n",
       "    </tr>\n",
       "    <tr>\n",
       "      <th>1</th>\n",
       "      <td>0.046349</td>\n",
       "      <td>0.005266</td>\n",
       "      <td>0.022615</td>\n",
       "      <td>0.001505</td>\n",
       "      <td>5</td>\n",
       "      <td>10</td>\n",
       "      <td>{'max_depth': 5, 'n_estimators': 10}</td>\n",
       "      <td>0.973170</td>\n",
       "      <td>0.981814</td>\n",
       "      <td>0.993803</td>\n",
       "      <td>0.987333</td>\n",
       "      <td>0.031394</td>\n",
       "      <td>0.793503</td>\n",
       "      <td>0.381115</td>\n",
       "      <td>1</td>\n",
       "    </tr>\n",
       "  </tbody>\n",
       "</table>\n",
       "</div>"
      ],
      "text/plain": [
       "   mean_fit_time  std_fit_time  mean_score_time  std_score_time  \\\n",
       "0       0.051493      0.003692         0.024476        0.003536   \n",
       "1       0.046349      0.005266         0.022615        0.001505   \n",
       "\n",
       "   param_max_depth  param_n_estimators                                params  \\\n",
       "0                3                  10  {'max_depth': 3, 'n_estimators': 10}   \n",
       "1                5                  10  {'max_depth': 5, 'n_estimators': 10}   \n",
       "\n",
       "   split0_test_score  split1_test_score  split2_test_score  split3_test_score  \\\n",
       "0           0.950969           0.982368           0.977855           0.968894   \n",
       "1           0.973170           0.981814           0.993803           0.987333   \n",
       "\n",
       "   split4_test_score  mean_test_score  std_test_score  rank_test_score  \n",
       "0           0.055657         0.787149        0.365904                2  \n",
       "1           0.031394         0.793503        0.381115                1  "
      ]
     },
     "metadata": {},
     "output_type": "display_data"
    }
   ],
   "source": [
    "from sklearn.model_selection import GridSearchCV\n",
    "from sklearn.ensemble import RandomForestRegressor\n",
    "\n",
    "validation_df = df.query('date < 2015')\n",
    "\n",
    "param_grid = {'max_depth': [3, 5], 'n_estimators': [10]}\n",
    "panel_split = PanelSplit(validation_df.date, n_splits=5, gap=0, test_size=1)\n",
    "\n",
    "plot_splits(panel_split)\n",
    "\n",
    "grid_search = GridSearchCV(RandomForestRegressor(n_jobs=-1, random_state=42), param_grid=param_grid, cv = panel_split, n_jobs=-1, verbose = 1)\n",
    "\n",
    "grid_search.fit(validation_df[features], validation_df[target])\n",
    "\n",
    "print('GridSearch results:')\n",
    "display(pd.DataFrame(grid_search.cv_results_))"
   ]
  },
  {
   "cell_type": "markdown",
   "metadata": {},
   "source": [
    "Now that we've determined what hyper-parameters to use, let's generate predictions in the test period.\n",
    "\n",
    "#### `cross_val_fit_predict`\n",
    "- PanelSplit's cross_val_fit_predict iteratively fits on the train and predicts the test for each fold\n",
    "- Here are the arguments I use:\n",
    "    - estimator: estimator object.\n",
    "    - X: Features.\n",
    "    - y: Target variable.\n",
    "    - labels: pandas DataFrame containing labels for the target variable predicted by the model. The predicted target will be a new column added to this DataFrame.\n",
    "    - prediction_method: The prediction method to use. It can be 'predict', 'predict_proba', or 'predict_log_proba'. Default is 'predict'.\n",
    "    - y_pred_col: Column name for the predicted values. Default is None, in which case the name will be the name of y.name + 'pred'. If y does not have a name attribute, the name will be 'y_pred'.\n",
    "    - n_jobs: The number of jobs to run in parallel"
   ]
  },
  {
   "cell_type": "code",
   "execution_count": 6,
   "metadata": {},
   "outputs": [],
   "source": [
    "best_params = grid_search.best_params_\n",
    "\n",
    "panel_split = PanelSplit(df.date, n_splits=5, gap=0, test_size=1)\n",
    "result_df = panel_split.gen_test_labels(df[['country','date', 'GDP']])\n",
    "result_df['GDP_pred'], models = cross_val_fit_predict(RandomForestRegressor(**best_params),  X= df[features], y=df[target], method='predict', cv= panel_split)"
   ]
  },
  {
   "cell_type": "markdown",
   "metadata": {},
   "source": [
    "The output of cross_val_fit_predict is a dataframe of predictions and fitted models. This is what the DataFrame looks like:"
   ]
  },
  {
   "cell_type": "markdown",
   "metadata": {},
   "source": [
    "Let's assess performance:"
   ]
  },
  {
   "cell_type": "code",
   "execution_count": 17,
   "metadata": {},
   "outputs": [
    {
     "name": "stdout",
     "output_type": "stream",
     "text": [
      "MAPE: 0.15\n"
     ]
    }
   ],
   "source": [
    "from sklearn.metrics import mean_absolute_percentage_error\n",
    "\n",
    "print('MAPE:', round(mean_absolute_percentage_error(result_df.GDP, result_df.GDP_pred),2))"
   ]
  },
  {
   "cell_type": "markdown",
   "metadata": {},
   "source": [
    "## Multiple Snapshots/Updated Values\n",
    "\n",
    "There are also instances where you might want to keep observations seperate between folds, for example when scaling features. \n",
    "\n",
    "In case you need to manually implement something where observations must be handled differently across folds, PanelSplit's `gen_snapshots` converts a single df to multiple snapshots of that dataframe."
   ]
  },
  {
   "cell_type": "code",
   "execution_count": 18,
   "metadata": {},
   "outputs": [
    {
     "name": "stdout",
     "output_type": "stream",
     "text": [
      "2 new columns are created: split and snapshot_period:\n"
     ]
    },
    {
     "data": {
      "text/html": [
       "<div>\n",
       "<style scoped>\n",
       "    .dataframe tbody tr th:only-of-type {\n",
       "        vertical-align: middle;\n",
       "    }\n",
       "\n",
       "    .dataframe tbody tr th {\n",
       "        vertical-align: top;\n",
       "    }\n",
       "\n",
       "    .dataframe thead th {\n",
       "        text-align: right;\n",
       "    }\n",
       "</style>\n",
       "<table border=\"1\" class=\"dataframe\">\n",
       "  <thead>\n",
       "    <tr style=\"text-align: right;\">\n",
       "      <th></th>\n",
       "      <th>country</th>\n",
       "      <th>date</th>\n",
       "      <th>GDP</th>\n",
       "      <th>Population</th>\n",
       "      <th>Inflation</th>\n",
       "      <th>Trade_Balance</th>\n",
       "      <th>split</th>\n",
       "      <th>snapshot_period</th>\n",
       "    </tr>\n",
       "  </thead>\n",
       "  <tbody>\n",
       "    <tr>\n",
       "      <th>41</th>\n",
       "      <td>France</td>\n",
       "      <td>2001</td>\n",
       "      <td>1.370377e+12</td>\n",
       "      <td>61357430.0</td>\n",
       "      <td>1.634781</td>\n",
       "      <td>56.893233</td>\n",
       "      <td>0</td>\n",
       "      <td>2010</td>\n",
       "    </tr>\n",
       "    <tr>\n",
       "      <th>42</th>\n",
       "      <td>France</td>\n",
       "      <td>2002</td>\n",
       "      <td>1.492428e+12</td>\n",
       "      <td>61805267.0</td>\n",
       "      <td>1.923412</td>\n",
       "      <td>55.132525</td>\n",
       "      <td>0</td>\n",
       "      <td>2010</td>\n",
       "    </tr>\n",
       "    <tr>\n",
       "      <th>43</th>\n",
       "      <td>France</td>\n",
       "      <td>2003</td>\n",
       "      <td>1.835096e+12</td>\n",
       "      <td>115716188.6</td>\n",
       "      <td>2.098472</td>\n",
       "      <td>49.808744</td>\n",
       "      <td>0</td>\n",
       "      <td>2010</td>\n",
       "    </tr>\n",
       "    <tr>\n",
       "      <th>44</th>\n",
       "      <td>France</td>\n",
       "      <td>2004</td>\n",
       "      <td>2.109792e+12</td>\n",
       "      <td>62704895.0</td>\n",
       "      <td>2.142090</td>\n",
       "      <td>53.749765</td>\n",
       "      <td>0</td>\n",
       "      <td>2010</td>\n",
       "    </tr>\n",
       "    <tr>\n",
       "      <th>45</th>\n",
       "      <td>France</td>\n",
       "      <td>2005</td>\n",
       "      <td>2.192146e+12</td>\n",
       "      <td>63179351.0</td>\n",
       "      <td>1.745869</td>\n",
       "      <td>55.822836</td>\n",
       "      <td>0</td>\n",
       "      <td>2010</td>\n",
       "    </tr>\n",
       "    <tr>\n",
       "      <th>...</th>\n",
       "      <td>...</td>\n",
       "      <td>...</td>\n",
       "      <td>...</td>\n",
       "      <td>...</td>\n",
       "      <td>...</td>\n",
       "      <td>...</td>\n",
       "      <td>...</td>\n",
       "      <td>...</td>\n",
       "    </tr>\n",
       "    <tr>\n",
       "      <th>459</th>\n",
       "      <td>United States</td>\n",
       "      <td>2015</td>\n",
       "      <td>1.829502e+13</td>\n",
       "      <td>320635163.0</td>\n",
       "      <td>1.830298</td>\n",
       "      <td>27.688214</td>\n",
       "      <td>9</td>\n",
       "      <td>2019</td>\n",
       "    </tr>\n",
       "    <tr>\n",
       "      <th>460</th>\n",
       "      <td>United States</td>\n",
       "      <td>2016</td>\n",
       "      <td>1.880491e+13</td>\n",
       "      <td>322941311.0</td>\n",
       "      <td>1.261583</td>\n",
       "      <td>26.452598</td>\n",
       "      <td>9</td>\n",
       "      <td>2019</td>\n",
       "    </tr>\n",
       "    <tr>\n",
       "      <th>461</th>\n",
       "      <td>United States</td>\n",
       "      <td>2017</td>\n",
       "      <td>1.961210e+13</td>\n",
       "      <td>324985539.0</td>\n",
       "      <td>2.130110</td>\n",
       "      <td>27.125338</td>\n",
       "      <td>9</td>\n",
       "      <td>2019</td>\n",
       "    </tr>\n",
       "    <tr>\n",
       "      <th>462</th>\n",
       "      <td>United States</td>\n",
       "      <td>2018</td>\n",
       "      <td>2.065652e+13</td>\n",
       "      <td>326687501.0</td>\n",
       "      <td>2.442583</td>\n",
       "      <td>27.445359</td>\n",
       "      <td>9</td>\n",
       "      <td>2019</td>\n",
       "    </tr>\n",
       "    <tr>\n",
       "      <th>463</th>\n",
       "      <td>United States</td>\n",
       "      <td>2019</td>\n",
       "      <td>2.153998e+13</td>\n",
       "      <td>329534000.0</td>\n",
       "      <td>1.812210</td>\n",
       "      <td>26.258481</td>\n",
       "      <td>9</td>\n",
       "      <td>2019</td>\n",
       "    </tr>\n",
       "  </tbody>\n",
       "</table>\n",
       "<p>725 rows × 8 columns</p>\n",
       "</div>"
      ],
      "text/plain": [
       "           country  date           GDP   Population  Inflation  Trade_Balance  \\\n",
       "41          France  2001  1.370377e+12   61357430.0   1.634781      56.893233   \n",
       "42          France  2002  1.492428e+12   61805267.0   1.923412      55.132525   \n",
       "43          France  2003  1.835096e+12  115716188.6   2.098472      49.808744   \n",
       "44          France  2004  2.109792e+12   62704895.0   2.142090      53.749765   \n",
       "45          France  2005  2.192146e+12   63179351.0   1.745869      55.822836   \n",
       "..             ...   ...           ...          ...        ...            ...   \n",
       "459  United States  2015  1.829502e+13  320635163.0   1.830298      27.688214   \n",
       "460  United States  2016  1.880491e+13  322941311.0   1.261583      26.452598   \n",
       "461  United States  2017  1.961210e+13  324985539.0   2.130110      27.125338   \n",
       "462  United States  2018  2.065652e+13  326687501.0   2.442583      27.445359   \n",
       "463  United States  2019  2.153998e+13  329534000.0   1.812210      26.258481   \n",
       "\n",
       "     split  snapshot_period  \n",
       "41       0             2010  \n",
       "42       0             2010  \n",
       "43       0             2010  \n",
       "44       0             2010  \n",
       "45       0             2010  \n",
       "..     ...              ...  \n",
       "459      9             2019  \n",
       "460      9             2019  \n",
       "461      9             2019  \n",
       "462      9             2019  \n",
       "463      9             2019  \n",
       "\n",
       "[725 rows x 8 columns]"
      ]
     },
     "metadata": {},
     "output_type": "display_data"
    },
    {
     "name": "stdout",
     "output_type": "stream",
     "text": [
      "before gen_snapshot:(95, 6) after gen_snapshot:(725, 8)\n"
     ]
    }
   ],
   "source": [
    "panel_split = PanelSplit(df.date, n_splits = (2020 - 2010), test_size=1)\n",
    "\n",
    "snapshot_df = panel_split.gen_snapshots(df, period_col = 'date')\n",
    "print('2 new columns are created: split and snapshot_period:')\n",
    "display(snapshot_df)\n",
    "print(f'before gen_snapshot:{df.shape} after gen_snapshot:{snapshot_df.shape}')"
   ]
  },
  {
   "cell_type": "markdown",
   "metadata": {},
   "source": [
    "Let's scale our data using `cross_val_fit_predict`. Here each snapshot is scaled separately. We also specify `include_train_in_test=True`, thereby also transforming the training set for each fold."
   ]
  },
  {
   "cell_type": "code",
   "execution_count": null,
   "metadata": {},
   "outputs": [],
   "source": [
    "from sklearn.preprocessing import StandardScaler\n",
    "\n",
    "panel_split = PanelSplit(periods = snapshot_df.date, snapshots = snapshot_df.snapshot_period, n_splits = (2020 - 2010), include_train_in_test=True) # notice the usage of the snapshots argument. Also, include train in test means that the training data for each test set will be transformed as well.\n",
    "snapshot_df[features], scalers = cross_val_fit_predict(StandardScaler(), X= snapshot_df[features], y=None, cv=panel_split, method='transform') # transform_train transforms the training set for each fold"
   ]
  },
  {
   "cell_type": "markdown",
   "metadata": {},
   "source": [
    "We could then go on to hyper-parameter tune and cross_val_fit_predict our snapshot_df in almost the same way we did before. The only difference, like in the above cell, is that we specify the snapshots argument."
   ]
  }
 ],
 "metadata": {
  "kernelspec": {
   "display_name": ".venv",
   "language": "python",
   "name": "python3"
  },
  "language_info": {
   "codemirror_mode": {
    "name": "ipython",
    "version": 3
   },
   "file_extension": ".py",
   "mimetype": "text/x-python",
   "name": "python",
   "nbconvert_exporter": "python",
   "pygments_lexer": "ipython3",
   "version": "3.12.9"
  }
 },
 "nbformat": 4,
 "nbformat_minor": 2
}
