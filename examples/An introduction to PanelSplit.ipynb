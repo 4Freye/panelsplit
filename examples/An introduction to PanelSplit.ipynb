{
 "cells": [
  {
   "cell_type": "markdown",
   "metadata": {},
   "source": [
    "# An introduction to PanelSplit\n",
    "\n",
    "In this introduction, we see how PanelSplit's cross-validation abilities can be used for imputation, hyper-parameter tuning, and prediction.\n",
    "\n",
    "Let's import some panel data on countries using the World Bank API:"
   ]
  },
  {
   "cell_type": "code",
   "execution_count": 5,
   "metadata": {},
   "outputs": [
    {
     "data": {
      "text/html": [
       "<div>\n",
       "<style scoped>\n",
       "    .dataframe tbody tr th:only-of-type {\n",
       "        vertical-align: middle;\n",
       "    }\n",
       "\n",
       "    .dataframe tbody tr th {\n",
       "        vertical-align: top;\n",
       "    }\n",
       "\n",
       "    .dataframe thead th {\n",
       "        text-align: right;\n",
       "    }\n",
       "</style>\n",
       "<table border=\"1\" class=\"dataframe\">\n",
       "  <thead>\n",
       "    <tr style=\"text-align: right;\">\n",
       "      <th></th>\n",
       "      <th>country</th>\n",
       "      <th>date</th>\n",
       "      <th>GDP</th>\n",
       "      <th>Population</th>\n",
       "      <th>Inflation</th>\n",
       "      <th>Gov_Expenditure</th>\n",
       "      <th>Trade_Balance</th>\n",
       "    </tr>\n",
       "  </thead>\n",
       "  <tbody>\n",
       "    <tr>\n",
       "      <th>0</th>\n",
       "      <td>Germany</td>\n",
       "      <td>2022</td>\n",
       "      <td>4.082469e+12</td>\n",
       "      <td>83797985.0</td>\n",
       "      <td>6.872574</td>\n",
       "      <td>NaN</td>\n",
       "      <td>99.880340</td>\n",
       "    </tr>\n",
       "    <tr>\n",
       "      <th>1</th>\n",
       "      <td>Germany</td>\n",
       "      <td>2021</td>\n",
       "      <td>4.278504e+12</td>\n",
       "      <td>83196078.0</td>\n",
       "      <td>3.066667</td>\n",
       "      <td>1.205354e+12</td>\n",
       "      <td>89.161094</td>\n",
       "    </tr>\n",
       "    <tr>\n",
       "      <th>2</th>\n",
       "      <td>Germany</td>\n",
       "      <td>2020</td>\n",
       "      <td>3.887727e+12</td>\n",
       "      <td>83160871.0</td>\n",
       "      <td>0.144878</td>\n",
       "      <td>1.109810e+12</td>\n",
       "      <td>81.147359</td>\n",
       "    </tr>\n",
       "    <tr>\n",
       "      <th>3</th>\n",
       "      <td>Germany</td>\n",
       "      <td>2019</td>\n",
       "      <td>3.889178e+12</td>\n",
       "      <td>83092962.0</td>\n",
       "      <td>1.445660</td>\n",
       "      <td>9.859610e+11</td>\n",
       "      <td>88.318389</td>\n",
       "    </tr>\n",
       "    <tr>\n",
       "      <th>4</th>\n",
       "      <td>Germany</td>\n",
       "      <td>2018</td>\n",
       "      <td>3.974443e+12</td>\n",
       "      <td>82905782.0</td>\n",
       "      <td>1.732169</td>\n",
       "      <td>9.397050e+11</td>\n",
       "      <td>88.519871</td>\n",
       "    </tr>\n",
       "  </tbody>\n",
       "</table>\n",
       "</div>"
      ],
      "text/plain": [
       "   country  date           GDP  Population  Inflation  Gov_Expenditure  \\\n",
       "0  Germany  2022  4.082469e+12  83797985.0   6.872574              NaN   \n",
       "1  Germany  2021  4.278504e+12  83196078.0   3.066667     1.205354e+12   \n",
       "2  Germany  2020  3.887727e+12  83160871.0   0.144878     1.109810e+12   \n",
       "3  Germany  2019  3.889178e+12  83092962.0   1.445660     9.859610e+11   \n",
       "4  Germany  2018  3.974443e+12  82905782.0   1.732169     9.397050e+11   \n",
       "\n",
       "   Trade_Balance  \n",
       "0      99.880340  \n",
       "1      89.161094  \n",
       "2      81.147359  \n",
       "3      88.318389  \n",
       "4      88.519871  "
      ]
     },
     "execution_count": 5,
     "metadata": {},
     "output_type": "execute_result"
    }
   ],
   "source": [
    "import wbdata # may need to install using !pip install wbdata\n",
    "import pandas as pd\n",
    "\n",
    "# Define indicators and countries of interest\n",
    "indicators = {\"NY.GDP.MKTP.CD\": \"GDP\",  # Gross Domestic Product (current US$)\n",
    "              \"SP.POP.TOTL\": \"Population\",  # Total population\n",
    "              \"FP.CPI.TOTL.ZG\": \"Inflation\",     # Inflation, consumer prices (annual %)\n",
    "              \"GC.XPN.TOTL.CN\": \"Gov_Expenditure\",  # Government expenditure (% of GDP)\n",
    "              \"NE.TRD.GNFS.ZS\": \"Trade_Balance\"}    # Trade balance (% of GDP)\n",
    "\n",
    "countries = [\"USA\", \"GBR\", \"FRA\", \"DEU\"]  # Example countries: USA, UK, France, Germany\n",
    "\n",
    "# Fetch data from the World Bank API\n",
    "panel_data = wbdata.get_dataframe(indicators, country=countries).reset_index()\n",
    "panel_data['date'] = panel_data.date.astype(int)\n",
    "panel_data = panel_data.query('date > 2000')\n",
    "\n",
    "panel_data.head()"
   ]
  },
  {
   "cell_type": "markdown",
   "metadata": {},
   "source": [
    "It appears there are missing rows. Let's see how many per column:"
   ]
  },
  {
   "cell_type": "code",
   "execution_count": 6,
   "metadata": {},
   "outputs": [
    {
     "name": "stdout",
     "output_type": "stream",
     "text": [
      "country            0\n",
      "date               0\n",
      "GDP                0\n",
      "Population         0\n",
      "Inflation          0\n",
      "Gov_Expenditure    3\n",
      "Trade_Balance      1\n",
      "dtype: int64\n"
     ]
    },
    {
     "data": {
      "text/html": [
       "<div>\n",
       "<style scoped>\n",
       "    .dataframe tbody tr th:only-of-type {\n",
       "        vertical-align: middle;\n",
       "    }\n",
       "\n",
       "    .dataframe tbody tr th {\n",
       "        vertical-align: top;\n",
       "    }\n",
       "\n",
       "    .dataframe thead th {\n",
       "        text-align: right;\n",
       "    }\n",
       "</style>\n",
       "<table border=\"1\" class=\"dataframe\">\n",
       "  <thead>\n",
       "    <tr style=\"text-align: right;\">\n",
       "      <th></th>\n",
       "      <th>country</th>\n",
       "      <th>date</th>\n",
       "      <th>GDP</th>\n",
       "      <th>Population</th>\n",
       "      <th>Inflation</th>\n",
       "      <th>Gov_Expenditure</th>\n",
       "      <th>Trade_Balance</th>\n",
       "    </tr>\n",
       "  </thead>\n",
       "  <tbody>\n",
       "    <tr>\n",
       "      <th>0</th>\n",
       "      <td>Germany</td>\n",
       "      <td>2022</td>\n",
       "      <td>4.082469e+12</td>\n",
       "      <td>83797985.0</td>\n",
       "      <td>6.872574</td>\n",
       "      <td>NaN</td>\n",
       "      <td>99.880340</td>\n",
       "    </tr>\n",
       "    <tr>\n",
       "      <th>63</th>\n",
       "      <td>France</td>\n",
       "      <td>2022</td>\n",
       "      <td>2.779092e+12</td>\n",
       "      <td>67971311.0</td>\n",
       "      <td>5.222367</td>\n",
       "      <td>NaN</td>\n",
       "      <td>73.249853</td>\n",
       "    </tr>\n",
       "    <tr>\n",
       "      <th>126</th>\n",
       "      <td>United Kingdom</td>\n",
       "      <td>2022</td>\n",
       "      <td>3.089073e+12</td>\n",
       "      <td>66971395.0</td>\n",
       "      <td>7.922049</td>\n",
       "      <td>NaN</td>\n",
       "      <td>69.255797</td>\n",
       "    </tr>\n",
       "    <tr>\n",
       "      <th>189</th>\n",
       "      <td>United States</td>\n",
       "      <td>2022</td>\n",
       "      <td>2.543970e+13</td>\n",
       "      <td>333287557.0</td>\n",
       "      <td>8.002800</td>\n",
       "      <td>6.306213e+12</td>\n",
       "      <td>NaN</td>\n",
       "    </tr>\n",
       "  </tbody>\n",
       "</table>\n",
       "</div>"
      ],
      "text/plain": [
       "            country  date           GDP   Population  Inflation  \\\n",
       "0           Germany  2022  4.082469e+12   83797985.0   6.872574   \n",
       "63           France  2022  2.779092e+12   67971311.0   5.222367   \n",
       "126  United Kingdom  2022  3.089073e+12   66971395.0   7.922049   \n",
       "189   United States  2022  2.543970e+13  333287557.0   8.002800   \n",
       "\n",
       "     Gov_Expenditure  Trade_Balance  \n",
       "0                NaN      99.880340  \n",
       "63               NaN      73.249853  \n",
       "126              NaN      69.255797  \n",
       "189     6.306213e+12            NaN  "
      ]
     },
     "execution_count": 6,
     "metadata": {},
     "output_type": "execute_result"
    }
   ],
   "source": [
    "print(panel_data.isna().sum(axis=0))\n",
    "\n",
    "panel_data[panel_data.isna().any(axis=1)]"
   ]
  },
  {
   "cell_type": "markdown",
   "metadata": {},
   "source": [
    "It apperas we don't have data for 2022 yet. Let's use PanelSplit to impute data, fitting on the training set and then transforming on the test set."
   ]
  },
  {
   "cell_type": "code",
   "execution_count": 8,
   "metadata": {},
   "outputs": [
    {
     "data": {
      "image/png": "[encoded data removed]",
      "text/plain": [
       "<Figure size 640x480 with 1 Axes>"
      ]
     },
     "metadata": {},
     "output_type": "display_data"
    }
   ],
   "source": [
    "from panelsplit import PanelSplit\n",
    "\n",
    "# Because we only need to impute 2022, we set the n_splits to the minimum allowed value, 2.\n",
    "panel_split = PanelSplit(panel_data.date, n_splits = 2, test_size=1, plot=True)"
   ]
  },
  {
   "cell_type": "markdown",
   "metadata": {},
   "source": [
    "- The graph is a helpful visualization to understand what this particular instance of PanelSplit is doing.\n",
    "- By reading this graph, we see that there are 2 folds or splits. The first one (Fold 0) goes from 2001 - 2020 in the train set (blue) and then has a test set in 2021 (red).\n",
    "\n",
    "\n",
    "When we perform imputation in the cell below, PanelSplit's cross_val_transform function iteratively goes through each split, fitting on the train set and then transforming the test set."
   ]
  },
  {
   "cell_type": "code",
   "execution_count": 3,
   "metadata": {},
   "outputs": [
    {
     "ename": "NameError",
     "evalue": "name 'panel_split' is not defined",
     "output_type": "error",
     "traceback": [
      "\u001b[0;31m---------------------------------------------------------------------------\u001b[0m",
      "\u001b[0;31mNameError\u001b[0m                                 Traceback (most recent call last)",
      "Cell \u001b[0;32mIn[3], line 4\u001b[0m\n\u001b[1;32m      1\u001b[0m \u001b[38;5;28;01mfrom\u001b[39;00m \u001b[38;5;21;01msklearn\u001b[39;00m\u001b[38;5;21;01m.\u001b[39;00m\u001b[38;5;21;01mimpute\u001b[39;00m \u001b[38;5;28;01mimport\u001b[39;00m KNNImputer\n\u001b[1;32m      3\u001b[0m panel_data_imputed \u001b[38;5;241m=\u001b[39m panel_data\u001b[38;5;241m.\u001b[39mcopy()\n\u001b[0;32m----> 4\u001b[0m panel_data_imputed[features] \u001b[38;5;241m=\u001b[39m \u001b[43mpanel_split\u001b[49m\u001b[38;5;241m.\u001b[39mcross_val_transform(KNNImputer(), panel_data[features])\n",
      "\u001b[0;31mNameError\u001b[0m: name 'panel_split' is not defined"
     ]
    }
   ],
   "source": [
    "from sklearn.impute import KNNImputer\n",
    "\n",
    "panel_data_imputed = panel_data.copy()\n",
    "panel_data_imputed[features] = panel_split.cross_val_transform(KNNImputer(), panel_data[features])"
   ]
  },
  {
   "cell_type": "markdown",
   "metadata": {},
   "source": [
    "Now that we've imputed our data, let's do some hyper-parameter tuning. \n",
    "\n",
    "For this assessment, we want a a larger n_splits. Also, let's say that our validation set is 2010-2015 and our test set is 2016 onwards."
   ]
  },
  {
   "cell_type": "code",
   "execution_count": 21,
   "metadata": {},
   "outputs": [
    {
     "data": {
      "image/png": "[encoded data removed]",
      "text/plain": [
       "<Figure size 640x480 with 1 Axes>"
      ]
     },
     "metadata": {},
     "output_type": "display_data"
    }
   ],
   "source": [
    "from sklearn.model_selection import GridSearchCV\n",
    "from sklearn.ensemble import RandomForestRegressor\n",
    "\n",
    "hyper_params = {'max_depth':[4,5]}\n",
    "validation = panel_data_imputed.query('date < 2016')\n",
    "panel_split = PanelSplit(validation.date, n_splits=6, test_size=1, plot=True)\n",
    "\n",
    "grid_search = GridSearchCV(RandomForestRegressor(), param_grid = hyper_params, cv=panel_split)\n",
    "\n",
    "grid_search.fit(validation[features], validation[target])\n",
    "\n",
    "best_params = grid_search.best_params_"
   ]
  },
  {
   "cell_type": "markdown",
   "metadata": {},
   "source": [
    "Great, we've found a set of hyper-parameters that work! Now let's predict on the test set from 2016 onwards, and then assess performance."
   ]
  },
  {
   "cell_type": "code",
   "execution_count": 26,
   "metadata": {},
   "outputs": [
    {
     "name": "stderr",
     "output_type": "stream",
     "text": [
      "  0%|          | 0/7 [00:00<?, ?it/s]"
     ]
    },
    {
     "name": "stderr",
     "output_type": "stream",
     "text": [
      "100%|██████████| 7/7 [00:00<00:00,  9.44it/s]\n"
     ]
    }
   ],
   "source": [
    "panel_split = PanelSplit(panel_data_imputed.date, n_splits = 7, test_size=1)\n",
    "predictions = panel_split.cross_val_predict(RandomForestRegressor(**best_params), panel_data_imputed[features], panel_data_imputed[target], panel_data_imputed[['country','date']])"
   ]
  },
  {
   "cell_type": "code",
   "execution_count": 33,
   "metadata": {},
   "outputs": [
    {
     "name": "stdout",
     "output_type": "stream",
     "text": [
      "Test set MAPE: 0.074\n"
     ]
    }
   ],
   "source": [
    "from sklearn.metrics import mean_absolute_percentage_error\n",
    "results = panel_data_imputed.merge(predictions, how='left', on=['date','country']).query('date > 2015')\n",
    "print(f'Test set MAPE: {round(mean_absolute_percentage_error(results.GDP, results.GDP_pred), 3)}')"
   ]
  }
 ],
 "metadata": {
  "kernelspec": {
   "display_name": "s05",
   "language": "python",
   "name": "python3"
  },
  "language_info": {
   "codemirror_mode": {
    "name": "ipython",
    "version": 3
   },
   "file_extension": ".py",
   "mimetype": "text/x-python",
   "name": "python",
   "nbconvert_exporter": "python",
   "pygments_lexer": "ipython3",
   "version": "3.8.18"
  }
 },
 "nbformat": 4,
 "nbformat_minor": 2
}
